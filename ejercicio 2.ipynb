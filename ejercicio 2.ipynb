{
    "cells": [
        {
            "cell_type": "code",
            "execution_count": 1,
            "metadata": {},
            "outputs": [
                {
                    "name": "stdout",
                    "output_type": "stream",
                    "text": "Tabla de multiplicar del 5\n---------------\n5 x 5 = 25\n5 x 6 = 30\n5 x 7 = 35\n5 x 8 = 40\n5 x 9 = 45\n5 x 10 = 50\n5 x 11 = 55\n5 x 12 = 60\n5 x 13 = 65\n5 x 14 = 70\n5 x 15 = 75\n5 x 16 = 80\n5 x 17 = 85\n5 x 18 = 90\n5 x 19 = 95\n5 x 20 = 100\n5 x 21 = 105\n5 x 22 = 110\n5 x 23 = 115\n5 x 24 = 120\n5 x 25 = 125\n5 x 26 = 130\n5 x 27 = 135\n5 x 28 = 140\n5 x 29 = 145\n5 x 30 = 150\n5 x 31 = 155\n5 x 32 = 160\n5 x 33 = 165\n5 x 34 = 170\n5 x 35 = 175\n5 x 36 = 180\n5 x 37 = 185\n5 x 38 = 190\n5 x 39 = 195\n5 x 40 = 200\n5 x 41 = 205\n5 x 42 = 210\n5 x 43 = 215\n5 x 44 = 220\n5 x 45 = 225\n5 x 46 = 230\n5 x 47 = 235\n5 x 48 = 240\n5 x 49 = 245\n5 x 50 = 250\n"
                }
            ],
            "source": "print(\"Tabla de multiplicar del 5\")\nprint(\"-\" * 15)\n\nfor i in range(5, 51):\n  print(f\"5 x {i} = {5 * i}\")"
        },
        {
            "cell_type": "code",
            "execution_count": 6,
            "metadata": {},
            "outputs": [
                {
                    "name": "stdout",
                    "output_type": "stream",
                    "text": "Collecting statistics\n  Downloading statistics-1.0.3.5.tar.gz (8.3 kB)\n  Preparing metadata (setup.py) ... \u001b[?25ldone\n\u001b[?25hCollecting docutils>=0.3 (from statistics)\n  Downloading docutils-0.20.1-py3-none-any.whl.metadata (2.8 kB)\nDownloading docutils-0.20.1-py3-none-any.whl (572 kB)\n\u001b[2K   \u001b[90m\u2501\u2501\u2501\u2501\u2501\u2501\u2501\u2501\u2501\u2501\u2501\u2501\u2501\u2501\u2501\u2501\u2501\u2501\u2501\u2501\u2501\u2501\u2501\u2501\u2501\u2501\u2501\u2501\u2501\u2501\u2501\u2501\u2501\u2501\u2501\u2501\u2501\u2501\u2501\u2501\u001b[0m \u001b[32m572.7/572.7 kB\u001b[0m \u001b[31m29.7 MB/s\u001b[0m eta \u001b[36m0:00:00\u001b[0m\n\u001b[?25hBuilding wheels for collected packages: statistics\n  Building wheel for statistics (setup.py) ... \u001b[?25ldone\n\u001b[?25h  Created wheel for statistics: filename=statistics-1.0.3.5-py3-none-any.whl size=7438 sha256=3e0623719211371e1eda48bfecc597f493e5f8392c9d6a486931c28541e0db94\n  Stored in directory: /tmp/wsuser/.cache/pip/wheels/59/bd/aa/41ad56fbb723d36e457b5be74feb992cdac2855a6999ba34a1\nSuccessfully built statistics\nInstalling collected packages: docutils, statistics\nSuccessfully installed docutils-0.20.1 statistics-1.0.3.5\nNote: you may need to restart the kernel to use updated packages.\n"
                }
            ],
            "source": "pip install statistics"
        },
        {
            "cell_type": "code",
            "execution_count": 8,
            "metadata": {},
            "outputs": [
                {
                    "name": "stdout",
                    "output_type": "stream",
                    "text": "La media es: 27.25\nLa desviaci\u00f3n est\u00e1ndar es: 17.277152543170995\n"
                }
            ],
            "source": "import statistics\n\ndatos = [10, 50, 15, 20, 25, 30, 12, 56]\n\nmedia, desviacion_estandar = statistics.mean(datos), statistics.stdev(datos)\n\nprint(\"La media es:\", media)\nprint(\"La desviaci\u00f3n est\u00e1ndar es:\", desviacion_estandar)"
        },
        {
            "cell_type": "code",
            "execution_count": null,
            "metadata": {},
            "outputs": [],
            "source": ""
        }
    ],
    "metadata": {
        "kernelspec": {
            "display_name": "Python 3.10",
            "language": "python",
            "name": "python3"
        },
        "language_info": {
            "codemirror_mode": {
                "name": "ipython",
                "version": 3
            },
            "file_extension": ".py",
            "mimetype": "text/x-python",
            "name": "python",
            "nbconvert_exporter": "python",
            "pygments_lexer": "ipython3",
            "version": "3.10.13"
        }
    },
    "nbformat": 4,
    "nbformat_minor": 1
}