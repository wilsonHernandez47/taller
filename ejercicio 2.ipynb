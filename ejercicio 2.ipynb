{
    "cells": [
        {
            "cell_type": "code",
            "execution_count": 6,
            "metadata": {},
            "outputs": [
                {
                    "name": "stdout",
                    "output_type": "stream",
                    "text": "Collecting statistics\n  Downloading statistics-1.0.3.5.tar.gz (8.3 kB)\n  Preparing metadata (setup.py) ... \u001b[?25ldone\n\u001b[?25hCollecting docutils>=0.3 (from statistics)\n  Downloading docutils-0.20.1-py3-none-any.whl.metadata (2.8 kB)\nDownloading docutils-0.20.1-py3-none-any.whl (572 kB)\n\u001b[2K   \u001b[90m\u2501\u2501\u2501\u2501\u2501\u2501\u2501\u2501\u2501\u2501\u2501\u2501\u2501\u2501\u2501\u2501\u2501\u2501\u2501\u2501\u2501\u2501\u2501\u2501\u2501\u2501\u2501\u2501\u2501\u2501\u2501\u2501\u2501\u2501\u2501\u2501\u2501\u2501\u2501\u2501\u001b[0m \u001b[32m572.7/572.7 kB\u001b[0m \u001b[31m29.7 MB/s\u001b[0m eta \u001b[36m0:00:00\u001b[0m\n\u001b[?25hBuilding wheels for collected packages: statistics\n  Building wheel for statistics (setup.py) ... \u001b[?25ldone\n\u001b[?25h  Created wheel for statistics: filename=statistics-1.0.3.5-py3-none-any.whl size=7438 sha256=3e0623719211371e1eda48bfecc597f493e5f8392c9d6a486931c28541e0db94\n  Stored in directory: /tmp/wsuser/.cache/pip/wheels/59/bd/aa/41ad56fbb723d36e457b5be74feb992cdac2855a6999ba34a1\nSuccessfully built statistics\nInstalling collected packages: docutils, statistics\nSuccessfully installed docutils-0.20.1 statistics-1.0.3.5\nNote: you may need to restart the kernel to use updated packages.\n"
                }
            ],
            "source": "pip install statistics"
        },
        {
            "cell_type": "code",
            "execution_count": 8,
            "metadata": {},
            "outputs": [
                {
                    "name": "stdout",
                    "output_type": "stream",
                    "text": "La media es: 27.25\nLa desviaci\u00f3n est\u00e1ndar es: 17.277152543170995\n"
                }
            ],
            "source": "import statistics\n\ndatos = [10, 50, 15, 20, 25, 30, 12, 56]\n\nmedia, desviacion_estandar = statistics.mean(datos), statistics.stdev(datos)\n\nprint(\"La media es:\", media)\nprint(\"La desviaci\u00f3n est\u00e1ndar es:\", desviacion_estandar)"
        },
        {
            "cell_type": "code",
            "execution_count": null,
            "metadata": {},
            "outputs": [],
            "source": ""
        }
    ],
    "metadata": {
        "kernelspec": {
            "display_name": "Python 3.10",
            "language": "python",
            "name": "python3"
        },
        "language_info": {
            "codemirror_mode": {
                "name": "ipython",
                "version": 3
            },
            "file_extension": ".py",
            "mimetype": "text/x-python",
            "name": "python",
            "nbconvert_exporter": "python",
            "pygments_lexer": "ipython3",
            "version": "3.10.13"
        }
    },
    "nbformat": 4,
    "nbformat_minor": 1
}